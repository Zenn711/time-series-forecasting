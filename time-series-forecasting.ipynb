{
 "cells": [
  {
   "cell_type": "code",
   "execution_count": 13,
   "id": "4235aa28-927d-4214-a0b1-ed96fa96b2d9",
   "metadata": {},
   "outputs": [],
   "source": [
    "import os\n",
    "os.environ['TF_CPP_MIN_LOG_LEVEL'] = '3'\n",
    "\n",
    "import warnings\n",
    "warnings.filterwarnings('ignore')  "
   ]
  },
  {
   "cell_type": "code",
   "execution_count": 14,
   "id": "b7924c35-cd05-4b57-acbb-31de60b18f10",
   "metadata": {},
   "outputs": [],
   "source": [
    "import numpy as np\n",
    "import matplotlib.pyplot as plt\n",
    "import pandas as pd\n",
    "import math\n",
    "from keras.models import Sequential\n",
    "from keras.layers import Dense, LSTM\n",
    "from sklearn.preprocessing import MinMaxScaler\n",
    "from sklearn.metrics import mean_squared_error"
   ]
  },
  {
   "cell_type": "code",
   "execution_count": 2,
   "id": "e43a27cf-23ba-4100-a9de-db5cb8a99b8b",
   "metadata": {},
   "outputs": [],
   "source": [
    "url = 'https://raw.githubusercontent.com/jbrownlee/Datasets/master/airline-passengers.csv'\n",
    "dataframe = pd.read_csv(url, usecols=[1])\n",
    "dataset = dataframe.values\n",
    "dataset = dataset.astype('float32')"
   ]
  },
  {
   "cell_type": "code",
   "execution_count": 3,
   "id": "2218ba76-704e-45e0-9339-5ce644a537d7",
   "metadata": {},
   "outputs": [],
   "source": [
    "scaler = MinMaxScaler(feature_range=(0, 1))\n",
    "dataset = scaler.fit_transform(dataset)"
   ]
  },
  {
   "cell_type": "code",
   "execution_count": 4,
   "id": "0925a30c-bbf5-4722-a894-487145b1f47f",
   "metadata": {},
   "outputs": [
    {
     "name": "stdout",
     "output_type": "stream",
     "text": [
      "96 48\n"
     ]
    }
   ],
   "source": [
    "train_size = int(len(dataset) * 0.67)\n",
    "test_size = len(dataset) - train_size\n",
    "train, test = dataset[0:train_size,:], dataset[train_size:len(dataset),:]\n",
    "print(len(train), len(test))"
   ]
  },
  {
   "cell_type": "code",
   "execution_count": 5,
   "id": "380b010f-890a-4940-8c63-3fe3060c20dc",
   "metadata": {},
   "outputs": [],
   "source": [
    "def create_dataset(dataset, look_back=1):\n",
    "    dataX, dataY = [], []\n",
    "    for i in range(len(dataset)-look_back-1):\n",
    "        a = dataset[i:(i+look_back), 0]\n",
    "        dataX.append(a)\n",
    "        dataY.append(dataset[i + look_back, 0])\n",
    "    return np.array(dataX), np.array(dataY)"
   ]
  },
  {
   "cell_type": "code",
   "execution_count": 6,
   "id": "ebe41ff8-f12b-4da3-9479-3ba236edb823",
   "metadata": {},
   "outputs": [],
   "source": [
    "look_back = 1\n",
    "trainX, trainY = create_dataset(train, look_back)\n",
    "testX, testY = create_dataset(test, look_back)\n",
    "trainX = np.reshape(trainX, (trainX.shape[0], 1, trainX.shape[1]))\n",
    "testX = np.reshape(testX, (testX.shape[0], 1, testX.shape[1]))"
   ]
  },
  {
   "cell_type": "code",
   "execution_count": 15,
   "id": "07aad1a6-434b-42d8-ad83-93b00d46a9a8",
   "metadata": {},
   "outputs": [],
   "source": [
    "model = Sequential()\n",
    "model.add(LSTM(4, input_shape=(1, look_back)))\n",
    "model.add(Dense(1))\n",
    "model.compile(loss='mean_squared_error', optimizer='adam')"
   ]
  },
  {
   "cell_type": "code",
   "execution_count": 8,
   "id": "9923c6d5-6ae5-4018-b59d-65cf546eaf93",
   "metadata": {},
   "outputs": [
    {
     "name": "stdout",
     "output_type": "stream",
     "text": [
      "Epoch 1/100\n",
      "94/94 - 1s - 12ms/step - loss: 0.0380\n",
      "Epoch 2/100\n",
      "94/94 - 0s - 1ms/step - loss: 0.0183\n",
      "Epoch 3/100\n",
      "94/94 - 0s - 1ms/step - loss: 0.0142\n",
      "Epoch 4/100\n",
      "94/94 - 0s - 1ms/step - loss: 0.0132\n",
      "Epoch 5/100\n",
      "94/94 - 0s - 1ms/step - loss: 0.0123\n",
      "Epoch 6/100\n",
      "94/94 - 0s - 1ms/step - loss: 0.0115\n",
      "Epoch 7/100\n",
      "94/94 - 0s - 1ms/step - loss: 0.0107\n",
      "Epoch 8/100\n",
      "94/94 - 0s - 1ms/step - loss: 0.0097\n",
      "Epoch 9/100\n",
      "94/94 - 0s - 1ms/step - loss: 0.0088\n",
      "Epoch 10/100\n",
      "94/94 - 0s - 1ms/step - loss: 0.0079\n",
      "Epoch 11/100\n",
      "94/94 - 0s - 1ms/step - loss: 0.0070\n",
      "Epoch 12/100\n",
      "94/94 - 0s - 1ms/step - loss: 0.0062\n",
      "Epoch 13/100\n",
      "94/94 - 0s - 1ms/step - loss: 0.0054\n",
      "Epoch 14/100\n",
      "94/94 - 0s - 1ms/step - loss: 0.0047\n",
      "Epoch 15/100\n",
      "94/94 - 0s - 1ms/step - loss: 0.0040\n",
      "Epoch 16/100\n",
      "94/94 - 0s - 1ms/step - loss: 0.0035\n",
      "Epoch 17/100\n",
      "94/94 - 0s - 1ms/step - loss: 0.0031\n",
      "Epoch 18/100\n",
      "94/94 - 0s - 1ms/step - loss: 0.0027\n",
      "Epoch 19/100\n",
      "94/94 - 0s - 1ms/step - loss: 0.0025\n",
      "Epoch 20/100\n",
      "94/94 - 0s - 1ms/step - loss: 0.0023\n",
      "Epoch 21/100\n",
      "94/94 - 0s - 1ms/step - loss: 0.0022\n",
      "Epoch 22/100\n",
      "94/94 - 0s - 1ms/step - loss: 0.0021\n",
      "Epoch 23/100\n",
      "94/94 - 0s - 1ms/step - loss: 0.0021\n",
      "Epoch 24/100\n",
      "94/94 - 0s - 1ms/step - loss: 0.0020\n",
      "Epoch 25/100\n",
      "94/94 - 0s - 1ms/step - loss: 0.0020\n",
      "Epoch 26/100\n",
      "94/94 - 0s - 1ms/step - loss: 0.0020\n",
      "Epoch 27/100\n",
      "94/94 - 0s - 1ms/step - loss: 0.0020\n",
      "Epoch 28/100\n",
      "94/94 - 0s - 1ms/step - loss: 0.0020\n",
      "Epoch 29/100\n",
      "94/94 - 0s - 1ms/step - loss: 0.0020\n",
      "Epoch 30/100\n",
      "94/94 - 0s - 1ms/step - loss: 0.0021\n",
      "Epoch 31/100\n",
      "94/94 - 0s - 1ms/step - loss: 0.0020\n",
      "Epoch 32/100\n",
      "94/94 - 0s - 1ms/step - loss: 0.0021\n",
      "Epoch 33/100\n",
      "94/94 - 0s - 1ms/step - loss: 0.0020\n",
      "Epoch 34/100\n",
      "94/94 - 0s - 1ms/step - loss: 0.0021\n",
      "Epoch 35/100\n",
      "94/94 - 0s - 1ms/step - loss: 0.0021\n",
      "Epoch 36/100\n",
      "94/94 - 0s - 1ms/step - loss: 0.0020\n",
      "Epoch 37/100\n",
      "94/94 - 0s - 1ms/step - loss: 0.0019\n",
      "Epoch 38/100\n",
      "94/94 - 0s - 1ms/step - loss: 0.0021\n",
      "Epoch 39/100\n",
      "94/94 - 0s - 1ms/step - loss: 0.0020\n",
      "Epoch 40/100\n",
      "94/94 - 0s - 1ms/step - loss: 0.0020\n",
      "Epoch 41/100\n",
      "94/94 - 0s - 1ms/step - loss: 0.0020\n",
      "Epoch 42/100\n",
      "94/94 - 0s - 1ms/step - loss: 0.0020\n",
      "Epoch 43/100\n",
      "94/94 - 0s - 2ms/step - loss: 0.0021\n",
      "Epoch 44/100\n",
      "94/94 - 0s - 1ms/step - loss: 0.0021\n",
      "Epoch 45/100\n",
      "94/94 - 0s - 1ms/step - loss: 0.0020\n",
      "Epoch 46/100\n",
      "94/94 - 0s - 1ms/step - loss: 0.0021\n",
      "Epoch 47/100\n",
      "94/94 - 0s - 1ms/step - loss: 0.0020\n",
      "Epoch 48/100\n",
      "94/94 - 0s - 1ms/step - loss: 0.0021\n",
      "Epoch 49/100\n",
      "94/94 - 0s - 1ms/step - loss: 0.0022\n",
      "Epoch 50/100\n",
      "94/94 - 0s - 1ms/step - loss: 0.0020\n",
      "Epoch 51/100\n",
      "94/94 - 0s - 1ms/step - loss: 0.0021\n",
      "Epoch 52/100\n",
      "94/94 - 0s - 1ms/step - loss: 0.0020\n",
      "Epoch 53/100\n",
      "94/94 - 0s - 1ms/step - loss: 0.0020\n",
      "Epoch 54/100\n",
      "94/94 - 0s - 1ms/step - loss: 0.0020\n",
      "Epoch 55/100\n",
      "94/94 - 0s - 1ms/step - loss: 0.0020\n",
      "Epoch 56/100\n",
      "94/94 - 0s - 1ms/step - loss: 0.0020\n",
      "Epoch 57/100\n",
      "94/94 - 0s - 1ms/step - loss: 0.0020\n",
      "Epoch 58/100\n",
      "94/94 - 0s - 1ms/step - loss: 0.0020\n",
      "Epoch 59/100\n",
      "94/94 - 0s - 1ms/step - loss: 0.0020\n",
      "Epoch 60/100\n",
      "94/94 - 0s - 1ms/step - loss: 0.0020\n",
      "Epoch 61/100\n",
      "94/94 - 0s - 1ms/step - loss: 0.0020\n",
      "Epoch 62/100\n",
      "94/94 - 0s - 1ms/step - loss: 0.0020\n",
      "Epoch 63/100\n",
      "94/94 - 0s - 1ms/step - loss: 0.0020\n",
      "Epoch 64/100\n",
      "94/94 - 0s - 1ms/step - loss: 0.0020\n",
      "Epoch 65/100\n",
      "94/94 - 0s - 1ms/step - loss: 0.0021\n",
      "Epoch 66/100\n",
      "94/94 - 0s - 1ms/step - loss: 0.0020\n",
      "Epoch 67/100\n",
      "94/94 - 0s - 1ms/step - loss: 0.0020\n",
      "Epoch 68/100\n",
      "94/94 - 0s - 1ms/step - loss: 0.0020\n",
      "Epoch 69/100\n",
      "94/94 - 0s - 1ms/step - loss: 0.0020\n",
      "Epoch 70/100\n",
      "94/94 - 0s - 1ms/step - loss: 0.0020\n",
      "Epoch 71/100\n",
      "94/94 - 0s - 1ms/step - loss: 0.0021\n",
      "Epoch 72/100\n",
      "94/94 - 0s - 1ms/step - loss: 0.0020\n",
      "Epoch 73/100\n",
      "94/94 - 0s - 1ms/step - loss: 0.0020\n",
      "Epoch 74/100\n",
      "94/94 - 0s - 1ms/step - loss: 0.0020\n",
      "Epoch 75/100\n",
      "94/94 - 0s - 1ms/step - loss: 0.0020\n",
      "Epoch 76/100\n",
      "94/94 - 0s - 1ms/step - loss: 0.0020\n",
      "Epoch 77/100\n",
      "94/94 - 0s - 1ms/step - loss: 0.0020\n",
      "Epoch 78/100\n",
      "94/94 - 0s - 1ms/step - loss: 0.0020\n",
      "Epoch 79/100\n",
      "94/94 - 0s - 1ms/step - loss: 0.0021\n",
      "Epoch 80/100\n",
      "94/94 - 0s - 1ms/step - loss: 0.0021\n",
      "Epoch 81/100\n",
      "94/94 - 0s - 1ms/step - loss: 0.0020\n",
      "Epoch 82/100\n",
      "94/94 - 0s - 1ms/step - loss: 0.0020\n",
      "Epoch 83/100\n",
      "94/94 - 0s - 1ms/step - loss: 0.0020\n",
      "Epoch 84/100\n",
      "94/94 - 0s - 1ms/step - loss: 0.0020\n",
      "Epoch 85/100\n",
      "94/94 - 0s - 1ms/step - loss: 0.0020\n",
      "Epoch 86/100\n",
      "94/94 - 0s - 1ms/step - loss: 0.0019\n",
      "Epoch 87/100\n",
      "94/94 - 0s - 1ms/step - loss: 0.0020\n",
      "Epoch 88/100\n",
      "94/94 - 0s - 1ms/step - loss: 0.0020\n",
      "Epoch 89/100\n",
      "94/94 - 0s - 1ms/step - loss: 0.0021\n",
      "Epoch 90/100\n",
      "94/94 - 0s - 1ms/step - loss: 0.0020\n",
      "Epoch 91/100\n",
      "94/94 - 0s - 1ms/step - loss: 0.0020\n",
      "Epoch 92/100\n",
      "94/94 - 0s - 1ms/step - loss: 0.0020\n",
      "Epoch 93/100\n",
      "94/94 - 0s - 1ms/step - loss: 0.0020\n",
      "Epoch 94/100\n",
      "94/94 - 0s - 1ms/step - loss: 0.0021\n",
      "Epoch 95/100\n",
      "94/94 - 0s - 1ms/step - loss: 0.0020\n",
      "Epoch 96/100\n",
      "94/94 - 0s - 1ms/step - loss: 0.0020\n",
      "Epoch 97/100\n",
      "94/94 - 0s - 1ms/step - loss: 0.0020\n",
      "Epoch 98/100\n",
      "94/94 - 0s - 1ms/step - loss: 0.0020\n",
      "Epoch 99/100\n",
      "94/94 - 0s - 1ms/step - loss: 0.0020\n",
      "Epoch 100/100\n",
      "94/94 - 0s - 1ms/step - loss: 0.0020\n"
     ]
    },
    {
     "data": {
      "text/plain": [
       "<keras.src.callbacks.history.History at 0x7aaab0264830>"
      ]
     },
     "execution_count": 8,
     "metadata": {},
     "output_type": "execute_result"
    }
   ],
   "source": [
    "model.fit(trainX, trainY, epochs=100, batch_size=1, verbose=2)"
   ]
  },
  {
   "cell_type": "code",
   "execution_count": 9,
   "id": "38935a61-edb4-49cb-bcfa-d25f828760a4",
   "metadata": {},
   "outputs": [
    {
     "name": "stdout",
     "output_type": "stream",
     "text": [
      "\u001b[1m3/3\u001b[0m \u001b[32m━━━━━━━━━━━━━━━━━━━━\u001b[0m\u001b[37m\u001b[0m \u001b[1m0s\u001b[0m 57ms/step \n",
      "\u001b[1m2/2\u001b[0m \u001b[32m━━━━━━━━━━━━━━━━━━━━\u001b[0m\u001b[37m\u001b[0m \u001b[1m0s\u001b[0m 14ms/step\n"
     ]
    }
   ],
   "source": [
    "trainPredict = model.predict(trainX)\n",
    "testPredict = model.predict(testX)\n",
    "trainPredict = scaler.inverse_transform(trainPredict)\n",
    "trainY = scaler.inverse_transform([trainY])\n",
    "testPredict = scaler.inverse_transform(testPredict)\n",
    "testY = scaler.inverse_transform([testY])"
   ]
  },
  {
   "cell_type": "code",
   "execution_count": 10,
   "id": "154a1855-bfaa-4105-8408-9f5ecf3f525d",
   "metadata": {},
   "outputs": [
    {
     "name": "stdout",
     "output_type": "stream",
     "text": [
      "Train Score: 22.69 RMSE\n",
      "Test Score: 49.33 RMSE\n"
     ]
    }
   ],
   "source": [
    "trainScore = math.sqrt(mean_squared_error(trainY[0], trainPredict[:,0]))\n",
    "print('Train Score: %.2f RMSE' % (trainScore))\n",
    "testScore = math.sqrt(mean_squared_error(testY[0], testPredict[:,0]))\n",
    "print('Test Score: %.2f RMSE' % (testScore))"
   ]
  },
  {
   "cell_type": "code",
   "execution_count": 11,
   "id": "7dd67b35-efa8-481c-bb68-1bbbabf2cd85",
   "metadata": {},
   "outputs": [
    {
     "data": {
      "image/png": "[encoded data removed]",
      "text/plain": [
       "<Figure size 640x480 with 1 Axes>"
      ]
     },
     "metadata": {},
     "output_type": "display_data"
    }
   ],
   "source": [
    "trainPredictPlot = np.empty_like(dataset)\n",
    "trainPredictPlot[:, :] = np.nan\n",
    "trainPredictPlot[look_back:len(trainPredict)+look_back, :] = trainPredict\n",
    "testPredictPlot = np.empty_like(dataset)\n",
    "testPredictPlot[:, :] = np.nan\n",
    "testPredictPlot[len(trainPredict)+(look_back*2)+1:len(dataset)-1, :] = testPredict\n",
    "plt.plot(scaler.inverse_transform(dataset), label='Data Asli')\n",
    "plt.plot(trainPredictPlot, label='Prediksi Pelatihan')\n",
    "plt.plot(testPredictPlot, label='Prediksi Pengujian')\n",
    "plt.legend()\n",
    "plt.show()"
   ]
  },
  {
   "cell_type": "code",
   "execution_count": null,
   "id": "84882391-be13-4186-a2db-44c0fc359c8c",
   "metadata": {},
   "outputs": [],
   "source": []
  }
 ],
 "metadata": {
  "kernelspec": {
   "display_name": "Python (myenv)",
   "language": "python",
   "name": "myenv"
  },
  "language_info": {
   "codemirror_mode": {
    "name": "ipython",
    "version": 3
   },
   "file_extension": ".py",
   "mimetype": "text/x-python",
   "name": "python",
   "nbconvert_exporter": "python",
   "pygments_lexer": "ipython3",
   "version": "3.12.3"
  }
 },
 "nbformat": 4,
 "nbformat_minor": 5
}
